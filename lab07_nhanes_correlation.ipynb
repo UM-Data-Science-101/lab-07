{
  "cells": [
    {
      "cell_type": "markdown",
      "metadata": {
        "id": "rup8QdtOzd7u"
      },
      "source": [
        "# NHANES"
      ]
    },
    {
      "cell_type": "markdown",
      "metadata": {
        "id": "-NJkCjlYzd7x"
      },
      "source": [
        "The National Health and Nutrition Examination Survey (NHANES) is a\n",
        "cross sectional observational study run every 2-3 years by the\n",
        "United States Centers for Disease Control (CDC).  It collects\n",
        "extensive demographic and health-related data on a representative\n",
        "sample of the US population. We will work with a subset of the possible measures that the NHANES survey collects on basic biometric features.\n",
        "\n",
        "To get introduced to NHANES, watch this video as a class (it's getting a little old, but still a good picture of the survey):\n",
        "\n",
        "[NHANES Introduction Video](https://youtu.be/MGuojJXWBzA?si=JUBG2epFvVO35O5w)\n",
        "\n"
      ]
    },
    {
      "cell_type": "markdown",
      "metadata": {
        "id": "CJg5OYt5zd7y"
      },
      "source": [
        "First we import the libraries that we will be using."
      ]
    },
    {
      "cell_type": "code",
      "execution_count": 1,
      "metadata": {
        "id": "aTW7ldGuzd7y"
      },
      "outputs": [],
      "source": [
        "import pandas as pd\n",
        "import numpy as np\n",
        "import seaborn as sb\n",
        "import matplotlib.pyplot as plt"
      ]
    },
    {
      "cell_type": "markdown",
      "metadata": {
        "id": "XPt0EEl8zd7z"
      },
      "source": [
        "Now we load the NHANES data from a file."
      ]
    },
    {
      "cell_type": "code",
      "source": [
        "df = pd.read_csv(\"https://github.com/UM-Data-Science-101/lab-07/raw/refs/heads/main/nhanes.csv.gz\")\n"
      ],
      "metadata": {
        "colab": {
          "base_uri": "https://localhost:8080/"
        },
        "id": "cwYo50HLHr-V",
        "outputId": "da1b4a97-6376-4e9b-9888-853f3595e63b"
      },
      "execution_count": 2,
      "outputs": [
        {
          "output_type": "stream",
          "name": "stdout",
          "text": [
            "Mounted at /content/gdrive\n"
          ]
        }
      ]
    },
    {
      "cell_type": "markdown",
      "metadata": {
        "id": "8F33GLCxzd7z"
      },
      "source": [
        "Many biological processes behave differently during development\n",
        "compared to adulthood.  For this analysis, we will focus on\n",
        "people of age 18 or greater (RIDAGEYR contains each subject's age in\n",
        "years)."
      ]
    },
    {
      "cell_type": "code",
      "execution_count": 3,
      "metadata": {
        "id": "AWvkXLuuzd7z"
      },
      "outputs": [],
      "source": [
        "df = df.loc[df[\"RIDAGEYR\"] >= 18]"
      ]
    },
    {
      "cell_type": "markdown",
      "metadata": {
        "id": "mV8tgYTPzd70"
      },
      "source": [
        "We want the gender variable to be categorical, so we will update that here:"
      ]
    },
    {
      "cell_type": "code",
      "execution_count": 4,
      "metadata": {
        "id": "WXySSjTjzd70"
      },
      "outputs": [],
      "source": [
        "df[\"RIAGENDR\"] = df[\"RIAGENDR\"].replace([1.0, 2.0], [\"Male\",\"Female\"]).astype(\"category\")"
      ]
    },
    {
      "cell_type": "markdown",
      "source": [
        "## Getting to know the data\n",
        "\n",
        "The complete NHANES data set measures hundreds of different health indicators. For this lab, we use a subset related to height, weight, and blood pressure.\n",
        "\n",
        "Print out the data set size and the names of the columns."
      ],
      "metadata": {
        "id": "NzqhGO5q6aYG"
      }
    },
    {
      "cell_type": "code",
      "source": [],
      "metadata": {
        "id": "vwuAu5v13E_-"
      },
      "execution_count": 5,
      "outputs": []
    },
    {
      "cell_type": "markdown",
      "source": [
        "<details>\n",
        "\n",
        "```\n",
        "print(df.shape)\n",
        "df.columns\n",
        "```\n",
        "</details>"
      ],
      "metadata": {
        "id": "24c9SzNvxxgq"
      }
    },
    {
      "cell_type": "markdown",
      "source": [
        "Here is a brief codebook:\n",
        "\n",
        "* SEQN: A unique number given to each participant\n",
        "* RIDAGEYR: The participant's age in years\n",
        "* RIAGENDR: THe participant's gender\n",
        "* BMXWT: The participant's weight in kilograms\n",
        "* BMXHT: The participant's height in centimeters\n",
        "* BMXBMI: The participant's calculated body-mass-index\n",
        "* BPXSY[1,2,3]: Three systolic blood pressure measurements for the subject\n",
        "\n",
        "With the exception of `SEQN` and `RIAGENDR`, the other variables in this data set are quantitative in nature. Use the `.describe()` method for DataFrames to learn about typical values for these measures."
      ],
      "metadata": {
        "id": "SMTkjGZm6lbP"
      }
    },
    {
      "cell_type": "code",
      "source": [],
      "metadata": {
        "id": "V82MjyTM3NHW"
      },
      "execution_count": null,
      "outputs": []
    },
    {
      "cell_type": "markdown",
      "source": [
        "<details>\n",
        "\n",
        "```\n",
        "df.describe()\n",
        "```\n",
        "\n",
        "</details>"
      ],
      "metadata": {
        "id": "AN4ywGXHx-lM"
      }
    },
    {
      "cell_type": "markdown",
      "source": [
        "While these numerical summaries can be quite useful for quick snapshots, it is also a good idea to graph the complete distributions. Create histograms for `BMXHT` and `BMXWT` (we will look at some of the other variables later)."
      ],
      "metadata": {
        "id": "xcKKfSW1DOgX"
      }
    },
    {
      "cell_type": "code",
      "source": [],
      "metadata": {
        "id": "pP4VATMZ3cFR"
      },
      "execution_count": null,
      "outputs": []
    },
    {
      "cell_type": "markdown",
      "source": [
        "<details>\n",
        "\n",
        "```\n",
        "sb.histplot(data = df, x = \"BMXWT\")\n",
        "sb.histplot(data = df, x = \"BMXHT\")\n",
        "```\n",
        "\n",
        "</details>\n"
      ],
      "metadata": {
        "id": "JLzseys1yFJS"
      }
    },
    {
      "cell_type": "markdown",
      "source": [
        "Looking at these measures, would you say that either of them exhibit **skew** (unequal amounts of variation above and below the center of the distribution)?\n",
        "\n",
        "To make this more concrete, let's compute some numerical summaries of skew for both measures.\n",
        "\n",
        "First, let's see how far balanced quantiles are above and below the median of each distribution using **quantile skewness**:\n",
        "\n",
        "$$QS = \\frac{(Q_b - \\tilde X) - (\\tilde X - Q_a)}{Q_b - Q_a}$$\n",
        "\n",
        "\n"
      ],
      "metadata": {
        "id": "WyKOI6FgDwrz"
      }
    },
    {
      "cell_type": "markdown",
      "source": [
        "with the following components:\n",
        "\n",
        "* $\\tilde X$: the median of the data\n",
        "* $0 < a < 0.5$ and $b = (1 - a)$ are the values for which we will find the balanced quantiles\n",
        "* and $Q_b$ and $Q_a$ are the respective quantile values\n",
        "\n",
        "Write a function that computes quantile skewness for a given series and value of $a$. Use the function to compute quantile skewness for `BMXHT` and `BMXWT` at $a = 0.25$ and $a = 0.1$. What do you notice?\n",
        "\n",
        "\n"
      ],
      "metadata": {
        "id": "7h58lZRnEkM-"
      }
    },
    {
      "cell_type": "code",
      "source": [],
      "metadata": {
        "id": "tv_rPP2b4OBG"
      },
      "execution_count": null,
      "outputs": []
    },
    {
      "cell_type": "markdown",
      "source": [
        "<details>\n",
        "\n",
        "```\n",
        "def quantile_skewness(s, a):\n",
        "  m = s.median()\n",
        "  qa = s.quantile(a)\n",
        "  qb = s.quantile(1 - a)\n",
        "  return ((qb - m) - (m - qa)) / (qb - qa)\n",
        "\n",
        "(quantile_skewness(df[\"BMXHT\"], 0.25),\n",
        " quantile_skewness(df[\"BMXHT\"], 0.1))\n",
        "\n",
        "\n",
        "(quantile_skewness(df[\"BMXWT\"], 0.25),\n",
        " quantile_skewness(df[\"BMXWT\"], 0.1))\n",
        "```\n",
        "\n",
        "We observe little skew at the 25th and 75th quantile for each, but some right skew for the weight looking farther out in the 90th and 10th quantiles.\n",
        "\n",
        "</details>\n"
      ],
      "metadata": {
        "id": "o7ROraD9yU66"
      }
    },
    {
      "cell_type": "markdown",
      "source": [
        "Another measure of skewness looks at how far observations are from the center of the distribution on average using cubed distance. This measure is the **coefficient of skewness**:\n",
        "\n",
        "$$C = \\frac{1}{S_X^3} \\frac{1}{n} \\sum_{i=1}^n (X_i - \\bar X)^3 $$\n",
        "\n",
        "Where $\\bar X$ is the mean value of the data and $S_X$ is the standard deviation.\n",
        "\n",
        "Conveniently, the `.skew()` method will calculate this for us. Repeat the skew calculations for height and weight using $C$.\n",
        "\n"
      ],
      "metadata": {
        "id": "HiupM8uOIVZq"
      }
    },
    {
      "cell_type": "code",
      "source": [],
      "metadata": {
        "id": "HwH6SEVi4iwM"
      },
      "execution_count": null,
      "outputs": []
    },
    {
      "cell_type": "markdown",
      "source": [
        "<details>\n",
        "\n",
        "```\n",
        "df[[\"BMXHT\", \"BMXWT\"]].skew()\n",
        "```\n",
        "\n",
        "We see that again weight is showing some **right skew**.\n",
        "\n",
        "</details>"
      ],
      "metadata": {
        "id": "g5IMg0clyxdE"
      }
    },
    {
      "cell_type": "markdown",
      "source": [
        "When we encounter skew, it can be advantageous to correct for the skew using a **transformation**. Three that we often use with **positive, right skewed data** are\n",
        "\n",
        "* reciprocal transfromation: $1/X$\n",
        "* square root transformation: $\\sqrt{X}$\n",
        "* logarithm transformation: $\\log(X)$\n",
        "\n",
        "Implement these three transformations for `BMXWT`. Create new columns in the DataFrame `df` for each transformation. Recompute either the quantile skewness or coefficient of skewness. Do any of the transformations help reduce skew?"
      ],
      "metadata": {
        "id": "bK1CXexFYEXD"
      }
    },
    {
      "cell_type": "code",
      "source": [],
      "metadata": {
        "id": "GRb3eLLw5GqE"
      },
      "execution_count": null,
      "outputs": []
    },
    {
      "cell_type": "markdown",
      "source": [
        "<details>\n",
        "\n",
        "```\n",
        "df[\"BMXWT_recip\"] = 1 / df[\"BMXWT\"]\n",
        "df[\"BMXWT_sqrt\"] = np.sqrt(df[\"BMXWT\"])\n",
        "df[\"BMXWT_log\"] = np.log(df[\"BMXWT\"])\n",
        "\n",
        "quantile_skewness(df[[\"BMXWT\", \"BMXWT_recip\", \"BMXWT_sqrt\", \"BMXWT_log\"]], 0.1)\n",
        "\n",
        "df[[\"BMXWT\", \"BMXWT_recip\", \"BMXWT_sqrt\", \"BMXWT_log\"]].skew()\n",
        "\n",
        "```\n",
        "\n",
        "For both techniques, the log transformation works the best.\n",
        "\n",
        "\n",
        "\n",
        "</details>\n",
        "\n"
      ],
      "metadata": {
        "id": "D2fYiJgDy5GN"
      }
    },
    {
      "cell_type": "markdown",
      "metadata": {
        "id": "-GMNYb5Azd70"
      },
      "source": [
        "# Correlation analyses of body size"
      ]
    },
    {
      "cell_type": "markdown",
      "metadata": {
        "id": "79SJ4UpNzd70"
      },
      "source": [
        "The Pearson correlation coefficient describes the association betwen\n",
        "two quantitative variables.  It mainly captures linear association,\n",
        "but can detect certain types of non-linear association as well.  The\n",
        "Pearson correlation coefficient is a numerical statistic that is\n",
        "closely related to the relationship shown in a scatterplot."
      ]
    },
    {
      "cell_type": "markdown",
      "metadata": {
        "id": "5qCQ6eOqzd70"
      },
      "source": [
        "Begin by creating a scatter plot of `BMXHT` (height) and `BMXWT` (weight). Use `alpha = 0.4` to help deal with some of the overplotting."
      ]
    },
    {
      "cell_type": "code",
      "source": [],
      "metadata": {
        "id": "iWFYKmRC5UbN"
      },
      "execution_count": null,
      "outputs": []
    },
    {
      "cell_type": "markdown",
      "metadata": {
        "id": "QqPhAfySzd70"
      },
      "source": [
        "<details>\n",
        "    \n",
        "```\n",
        "sb.scatterplot(data = df, x = \"BMXHT\", y = \"BMXWT\", alpha = 0.4)\n",
        "```\n",
        "    \n",
        "</details>"
      ]
    },
    {
      "cell_type": "markdown",
      "metadata": {
        "id": "8EkuYkWVzd70"
      },
      "source": [
        "Think a little about what the correlation for this data set is going to be (positive? negative? zero?). Write yourself a note here."
      ]
    },
    {
      "cell_type": "markdown",
      "source": [],
      "metadata": {
        "id": "i70aB-LceJLb"
      }
    },
    {
      "cell_type": "markdown",
      "source": [
        "As we discussed in class, an **increasing relationship** is one in which large values of X are paired with large values of Y and small values of X are paried with small values of Y.\n",
        "\n",
        "Z-scores are one way to describe how large or small something is:\n",
        "\n",
        "$$Z_i = \\frac{X_i - \\bar X}{S_X}$$\n",
        "\n",
        "where $S_X$ is the standard deviation of the $X$ values.\n",
        "\n",
        "Write a function that converts a series to its Z-score version (there are a few examples in the notes if you want to see one). Call it `zscores` (we will refer to it later)."
      ],
      "metadata": {
        "id": "79E8RFyneH8K"
      }
    },
    {
      "cell_type": "code",
      "source": [],
      "metadata": {
        "id": "hhbhWZ9IfXOR"
      },
      "execution_count": 6,
      "outputs": []
    },
    {
      "cell_type": "markdown",
      "metadata": {
        "id": "_SwtWJSQzd71"
      },
      "source": [
        "<details>\n",
        "\n",
        "```\n",
        "def zscores(s):\n",
        "    return((s - s.mean()) / s.std())\n",
        "```\n",
        "\n",
        "</details>"
      ]
    },
    {
      "cell_type": "markdown",
      "metadata": {
        "id": "zvgqhuDRzd71"
      },
      "source": [
        "Create new columns in the DataFrame `df` that contain the Z-scores for height and weight."
      ]
    },
    {
      "cell_type": "code",
      "source": [],
      "metadata": {
        "id": "ETvVmNYz5nZg"
      },
      "execution_count": 7,
      "outputs": []
    },
    {
      "cell_type": "markdown",
      "metadata": {
        "id": "lxCqbXqazd71"
      },
      "source": [
        "<details>\n",
        "    \n",
        "```\n",
        "df[\"BMXHT_Z\"] = zscores(df[\"BMXHT\"])\n",
        "df[\"BMXWT_Z\"] = zscores(df[\"BMXWT\"])\n",
        "```\n",
        "</details>"
      ]
    },
    {
      "cell_type": "markdown",
      "source": [
        "Plot the z-scores against each other and add horizontal and vertical bars using `plt.axvline(0)` and `plt.axhline(0)`."
      ],
      "metadata": {
        "id": "Ca_mxR_8fZHI"
      }
    },
    {
      "cell_type": "code",
      "source": [],
      "metadata": {
        "id": "TW1qk-RCfu3q"
      },
      "execution_count": 11,
      "outputs": []
    },
    {
      "cell_type": "markdown",
      "source": [
        "<details>\n",
        "\n",
        "```\n",
        "sb.scatterplot(data = df, x = \"BMXHT_Z\", y = \"BMXWT_Z\")\n",
        "plt.axvline(0, color = \"black\")\n",
        "plt.axhline(0, color = \"black\")\n",
        "```\n",
        "\n",
        "</details>"
      ],
      "metadata": {
        "id": "KpTQ28xUzUyx"
      }
    },
    {
      "cell_type": "markdown",
      "source": [
        "In which quadrants do most of these points fall? Recall that if most points fall in the upper right and lower left quadrants, we have a positive/increasing relationship. If we see most in the upper left and lower right, we have a decreasing relationship. And if all points are equally spread out in all quadrants, we would say that there is no relationship at all."
      ],
      "metadata": {
        "id": "r4bIjwI-gSvO"
      }
    },
    {
      "cell_type": "markdown",
      "metadata": {
        "id": "-sgbKgxEzd71"
      },
      "source": [
        "Recall that the correlation of two variables is defined as the average product of Z-scores for the two measures:\n",
        "\n",
        "$$r_{xy} = \\frac{1}{n} \\sum_{i=1}^n \\frac{X_i - \\bar X}{S_X} \\cdot \\frac{Y_i - \\bar Y}{S_Y}$$\n",
        "where $S_X$ and $S_Y$ are the standard deviations of the two measurements, respectively.\n",
        "\n",
        "Using your Z-score columns, calculate the correlation coefficient directly (not using the `.corr()` method).\n"
      ]
    },
    {
      "cell_type": "code",
      "source": [],
      "metadata": {
        "id": "4ammOQ09hVPv"
      },
      "execution_count": 9,
      "outputs": []
    },
    {
      "cell_type": "markdown",
      "source": [
        "<details>\n",
        "\n",
        "```\n",
        "(df[\"BMXHT_Z\"] * df[\"BMXWT_Z\"]).mean()\n",
        "```\n",
        "\n",
        "</details>\n"
      ],
      "metadata": {
        "id": "8h7uV7CZza-3"
      }
    },
    {
      "cell_type": "markdown",
      "metadata": {
        "id": "9ZPxdOgQzd70"
      },
      "source": [
        "Interpret this value. What do the sign and magnitude tell you?\n",
        "\n"
      ]
    },
    {
      "cell_type": "markdown",
      "source": [
        "We can also use the `.corr()` method. Apply this to a table with the `BMXHT` and `BMXWT` variables to verify your calculations."
      ],
      "metadata": {
        "id": "t0dKObxmhsqM"
      }
    },
    {
      "cell_type": "code",
      "execution_count": 9,
      "metadata": {
        "id": "Otf8bZqDzd70"
      },
      "outputs": [],
      "source": []
    },
    {
      "cell_type": "markdown",
      "metadata": {
        "id": "DMqa01fBzd71"
      },
      "source": [
        "<details>\n",
        "    \n",
        "```\n",
        "df[[\"BMXHT\", \"BMXWT\"]].corr()\n",
        "```\n",
        "\n",
        "Not surprisingly, there is a fairly strong positive association between these variables -- people who are taller tend to be heavier than people who are shorter.\n",
        "\n",
        "</details>"
      ]
    },
    {
      "cell_type": "markdown",
      "source": [
        "## Regression Modeling of Height and Weight"
      ],
      "metadata": {
        "id": "DcIPMpc8YXrZ"
      }
    },
    {
      "cell_type": "markdown",
      "source": [
        "Linear regression extends the idea of correlation by providing a specific equation that models the relationship between a predictor $X$ and a response $Y$. This equation is of the form $Y = a + bX$, where $b$ is the **slope** and $a$ is the **intercept**.\n",
        "\n",
        "The key connection is that the slope $b$ of the regression line is directly related to the correlation coefficient $r$. Specifically, the slope $b$ can be calculated using the formula:\n",
        "\n",
        "$$b = r_{xy} \\cdot \\frac{s_{y}}{s_{x}}$$\n",
        "\n",
        "Where $S_{y}$ and $S_{x}$ are the standard deviations of $Y$ and $X$ respectively. To get the intercept, we want the line to pass through the point $(\\bar X, \\bar Y)$, so we need to pick the intercept so that $\\bar Y = a + b \\bar X$. In other words,\n",
        "\n",
        "$$a = \\bar Y - b \\bar X$$\n"
      ],
      "metadata": {
        "id": "kpXD3jXjYgY7"
      }
    },
    {
      "cell_type": "markdown",
      "source": [
        "Say we wanted to predict `BMXWT` (weight) from `BMXHT` (height). The predictor $X$ would be `BMXHT` and the response $Y$ would be `BMXWT`. Calculate the values of $b$ and $a$."
      ],
      "metadata": {
        "id": "63hlzAWxbW7S"
      }
    },
    {
      "cell_type": "code",
      "source": [],
      "metadata": {
        "id": "0IYlYivibvRb"
      },
      "execution_count": 11,
      "outputs": []
    },
    {
      "cell_type": "markdown",
      "source": [
        "<details>\n",
        "\n",
        "```\n",
        "b = df[\"BMXHT\"].corr(df[\"BMXWT\"]) * df[\"BMXWT\"].std() / df[\"BMXHT\"].std()\n",
        "a = df[\"BMXWT\"].mean() - b * df[\"BMXHT\"].mean()\n",
        "(b, a)\n",
        "```\n",
        "\n",
        "</details>"
      ],
      "metadata": {
        "id": "VCFGEqpXbvtG"
      }
    },
    {
      "cell_type": "markdown",
      "source": [
        "Compute the average weight for people who are 120cm tall (according to the model). Compute the average weight for people who are 180cm tall (according to the model).\n"
      ],
      "metadata": {
        "id": "A_kboZGPemEp"
      }
    },
    {
      "cell_type": "code",
      "source": [],
      "metadata": {
        "id": "PdcMeaPYeyRa"
      },
      "execution_count": 11,
      "outputs": []
    },
    {
      "cell_type": "markdown",
      "source": [
        "<details>\n",
        "\n",
        "```\n",
        "a + b * 120, a + b * 180\n",
        "```\n",
        "\n",
        "</details>"
      ],
      "metadata": {
        "id": "ZopUEx03eycW"
      }
    },
    {
      "cell_type": "markdown",
      "source": [
        "We can also use the coefficient $b$ to understand the difference in conditional means for two groups that **differ by 1 on $X$**.\n",
        "\n",
        "Verify this by computing the conditional mean of weight for a group defined by having a height of 181 centimeters and compare it to your earlier calculation."
      ],
      "metadata": {
        "id": "dA2M6U3XfDA9"
      }
    },
    {
      "cell_type": "code",
      "source": [],
      "metadata": {
        "id": "TevcaLwwfIHk"
      },
      "execution_count": null,
      "outputs": []
    },
    {
      "cell_type": "markdown",
      "source": [
        "<details>\n",
        "\n",
        "```\n",
        "a + b * 181\n",
        "```\n",
        "\n",
        "</details>"
      ],
      "metadata": {
        "id": "DvwcvMxcfIaK"
      }
    },
    {
      "cell_type": "markdown",
      "source": [
        "Interpret the value you got for $b$. If we were to compare two groups of people whose heights differ by one centimeter, how much larger would the conditional mean of weights differ? (At least according to this model).\n",
        "\n",
        "How much would two groups that had a difference of 50cm of height differ in their conditional mean weight?"
      ],
      "metadata": {
        "id": "bWWM-10zfSSi"
      }
    },
    {
      "cell_type": "markdown",
      "source": [
        "## Using statsmodels package\n",
        "\n",
        "Now that we've calculated the coefficients by hand, we will introduce a built-in method to calculate what we need for us. The following example recreates our previous analysis using the statsmodels package."
      ],
      "metadata": {
        "id": "qtE0ewvXfeJL"
      }
    },
    {
      "cell_type": "code",
      "source": [
        "import statsmodels.api as sm\n",
        "\n",
        "## Due to missing values, we need to create a temporary table\n",
        "temp = df[['BMXWT', \"BMXHT\"]].dropna()\n",
        "fitted = sm.OLS(temp[\"BMXWT\"], sm.add_constant(temp[\"BMXHT\"])).fit()\n",
        "ab = fitted.params\n",
        "ab"
      ],
      "metadata": {
        "colab": {
          "base_uri": "https://localhost:8080/",
          "height": 147
        },
        "id": "Ie1jgoPOftHJ",
        "outputId": "febba6ac-8b4e-4021-ad30-a3eed23b3e38"
      },
      "execution_count": 12,
      "outputs": [
        {
          "output_type": "execute_result",
          "data": {
            "text/plain": [
              "const   -73.474733\n",
              "BMXHT     0.931844\n",
              "dtype: float64"
            ],
            "text/html": [
              "<div>\n",
              "<style scoped>\n",
              "    .dataframe tbody tr th:only-of-type {\n",
              "        vertical-align: middle;\n",
              "    }\n",
              "\n",
              "    .dataframe tbody tr th {\n",
              "        vertical-align: top;\n",
              "    }\n",
              "\n",
              "    .dataframe thead th {\n",
              "        text-align: right;\n",
              "    }\n",
              "</style>\n",
              "<table border=\"1\" class=\"dataframe\">\n",
              "  <thead>\n",
              "    <tr style=\"text-align: right;\">\n",
              "      <th></th>\n",
              "      <th>0</th>\n",
              "    </tr>\n",
              "  </thead>\n",
              "  <tbody>\n",
              "    <tr>\n",
              "      <th>const</th>\n",
              "      <td>-73.474733</td>\n",
              "    </tr>\n",
              "    <tr>\n",
              "      <th>BMXHT</th>\n",
              "      <td>0.931844</td>\n",
              "    </tr>\n",
              "  </tbody>\n",
              "</table>\n",
              "</div><br><label><b>dtype:</b> float64</label>"
            ]
          },
          "metadata": {},
          "execution_count": 12
        }
      ]
    },
    {
      "cell_type": "code",
      "source": [
        "(ab['const'] + ab['BMXHT'] * 120, ab['const'] + ab['BMXHT'] * 180)\n"
      ],
      "metadata": {
        "colab": {
          "base_uri": "https://localhost:8080/"
        },
        "id": "RDEDK_emf2dJ",
        "outputId": "e968c6f2-2476-4118-bc30-4326762e10e9"
      },
      "execution_count": 14,
      "outputs": [
        {
          "output_type": "execute_result",
          "data": {
            "text/plain": [
              "(38.34658757366627, 94.25724781426976)"
            ]
          },
          "metadata": {},
          "execution_count": 14
        }
      ]
    },
    {
      "cell_type": "markdown",
      "source": [
        "Perform a linear regression using the statsmodel package to model the conditional mean of `BMXBMI` (body mass index) given `BMXHT`. Interpret the result: For a 1cm change in height, how does the conditional mean of BMI change?"
      ],
      "metadata": {
        "id": "8jdCuEK3gB7h"
      }
    },
    {
      "cell_type": "code",
      "source": [],
      "metadata": {
        "id": "9jFkIoUtgEjA"
      },
      "execution_count": 15,
      "outputs": []
    },
    {
      "cell_type": "markdown",
      "source": [
        "<details>\n",
        "\n",
        "```\n",
        "## Due to missing values, we need to create a temporary table\n",
        "temp = df[['BMXHT', \"BMXBMI\"]].dropna()\n",
        "fitted = sm.OLS(temp[\"BMXBMI\"], sm.add_constant(temp[\"BMXHT\"])).fit()\n",
        "ab = fitted.params\n",
        "ab\n",
        "```\n",
        "\n",
        "</details>"
      ],
      "metadata": {
        "id": "TdyoApcOgE0b"
      }
    },
    {
      "cell_type": "markdown",
      "metadata": {
        "id": "QC8I7eK6zd71"
      },
      "source": [
        "## Conditional Correlation\n",
        "\n",
        "Throughout this course, we have seen that stratifying a dataset into\n",
        "more homogeneous subsets can reveal more informative and meaningful\n",
        "insights about the data."
      ]
    },
    {
      "cell_type": "markdown",
      "metadata": {
        "id": "n7yLaddPzd71"
      },
      "source": [
        "Create a scatterplot to visualize the\n",
        "relationship between `BMXHT` and `BMXWT` using the `hue` parameter to separate the male and female data."
      ]
    },
    {
      "cell_type": "code",
      "source": [],
      "metadata": {
        "id": "PmnP1yyM6akg"
      },
      "execution_count": null,
      "outputs": []
    },
    {
      "cell_type": "markdown",
      "metadata": {
        "id": "heo7-LdWzd71"
      },
      "source": [
        "<details>\n",
        "\n",
        "```\n",
        "sb.scatterplot(x=\"BMXHT\", y=\"BMXWT\", hue=\"RIAGENDR\", alpha=0.4, data=df)\n",
        "```\n",
        "\n",
        "</details>"
      ]
    },
    {
      "cell_type": "markdown",
      "source": [
        " Stratify (use `groupby` on the recorded gender variable `\"RIAGENDR\"` -- note the lack of the second \"E\" in \"GENDER\") and compute the correlation between height and weight within the groups."
      ],
      "metadata": {
        "id": "iqmAEOuzdNXJ"
      }
    },
    {
      "cell_type": "code",
      "source": [],
      "metadata": {
        "id": "Zo6mMJPW6rcL"
      },
      "execution_count": null,
      "outputs": []
    },
    {
      "cell_type": "markdown",
      "source": [
        "<details>\n",
        "\n",
        "```\n",
        "df.groupby(\"RIAGENDR\")[[\"BMXHT\", \"BMXWT\"]].corr()\n",
        "```\n",
        "\n",
        "</details>\n"
      ],
      "metadata": {
        "id": "0-wJ4cddzukS"
      }
    },
    {
      "cell_type": "markdown",
      "metadata": {
        "id": "xy21Pc_pzd71"
      },
      "source": [
        "For which group is the correlation higher? What does this tell us about the relationship between these two factors for men and women?"
      ]
    },
    {
      "cell_type": "code",
      "source": [],
      "metadata": {
        "id": "-nBSU-1uDD6R"
      },
      "execution_count": null,
      "outputs": []
    }
  ],
  "metadata": {
    "jupytext": {
      "cell_metadata_filter": "-all",
      "main_language": "python",
      "notebook_metadata_filter": "-all"
    },
    "kernelspec": {
      "display_name": "Python 3 (ipykernel)",
      "language": "python",
      "name": "python3"
    },
    "language_info": {
      "codemirror_mode": {
        "name": "ipython",
        "version": 3
      },
      "file_extension": ".py",
      "mimetype": "text/x-python",
      "name": "python",
      "nbconvert_exporter": "python",
      "pygments_lexer": "ipython3",
      "version": "3.9.7"
    },
    "colab": {
      "provenance": []
    }
  },
  "nbformat": 4,
  "nbformat_minor": 0
}